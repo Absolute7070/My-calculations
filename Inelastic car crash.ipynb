{
 "cells": [
  {
   "cell_type": "markdown",
   "metadata": {},
   "source": [
    "# Inelastic car crash"
   ]
  },
  {
   "cell_type": "markdown",
   "metadata": {},
   "source": [
    "Calculating totally inelastic head-on collision. \n",
    "\n",
    "Assumptions:\n",
    "- both have same speed 100 km/h (in the highway)\n",
    "- One is smaller having mass of Toyota Corolla\n",
    "- the other one is bigger having mass of Ford Kuga"
   ]
  },
  {
   "cell_type": "markdown",
   "metadata": {},
   "source": [
    "## Initial values"
   ]
  },
  {
   "cell_type": "code",
   "execution_count": 1,
   "metadata": {},
   "outputs": [],
   "source": [
    "m=1295 #kg Toyota Corolla\n",
    "M= 1600  #kg  Kuga \n",
    "vx= 100/3.6 #m/s cars' speed "
   ]
  },
  {
   "cell_type": "markdown",
   "metadata": {},
   "source": [
    "Smaller car m travelling +x -axis and larger car M travelling -x. Both have same speed initially. \n",
    "\n",
    "We get from the conservation of momentum that final speed is:"
   ]
  },
  {
   "cell_type": "code",
   "execution_count": 2,
   "metadata": {},
   "outputs": [
    {
     "name": "stdout",
     "output_type": "stream",
     "text": [
      "final speed:  -2.9265016311648426  m/s\n"
     ]
    }
   ],
   "source": [
    "u= (m*vx-M*vx)/(m+M)\n",
    "print('final speed: ', u, ' m/s')"
   ]
  },
  {
   "cell_type": "markdown",
   "metadata": {},
   "source": [
    "Which means Corolla will move backward after the collision. "
   ]
  },
  {
   "cell_type": "markdown",
   "metadata": {},
   "source": [
    "## Checking the change in momentum in both cars: "
   ]
  },
  {
   "cell_type": "markdown",
   "metadata": {},
   "source": [
    "M: "
   ]
  },
  {
   "cell_type": "code",
   "execution_count": 6,
   "metadata": {},
   "outputs": [
    {
     "name": "stdout",
     "output_type": "stream",
     "text": [
      "Momentum change of M: 39762.0418345807\n"
     ]
    }
   ],
   "source": [
    "p_M0= -M*vx\n",
    "p_M1= M*u  \n",
    "delta_pM=p_M1- p_M0\n",
    "print('Momentum change of M:', delta_pM)"
   ]
  },
  {
   "cell_type": "markdown",
   "metadata": {},
   "source": [
    "m: "
   ]
  },
  {
   "cell_type": "code",
   "execution_count": 4,
   "metadata": {},
   "outputs": [
    {
     "name": "stdout",
     "output_type": "stream",
     "text": [
      "Momentum change of m: -39762.0418345807\n"
     ]
    }
   ],
   "source": [
    "p_m0= m*vx\n",
    "p_m1= m*u\n",
    "delta_pm= p_m1- p_m0 \n",
    "print('Momentum change of m:', delta_pm)"
   ]
  },
  {
   "cell_type": "markdown",
   "metadata": {},
   "source": [
    "## Calculating acceleration:"
   ]
  },
  {
   "cell_type": "markdown",
   "metadata": {},
   "source": [
    "From a source that collision last about 0.2 s. From this we calculate accelerations of both cars. "
   ]
  },
  {
   "cell_type": "code",
   "execution_count": 7,
   "metadata": {},
   "outputs": [
    {
     "name": "stdout",
     "output_type": "stream",
     "text": [
      "a_M =  124.25638073306467\n",
      "a_m =  -153.5213970447131\n"
     ]
    }
   ],
   "source": [
    "deltat= 0.2 #s \n",
    "\n",
    "a_M= delta_pM/deltat/M \n",
    "a_m=delta_pm/deltat/m \n",
    "print('a_M = ', a_M)\n",
    "print('a_m = ', a_m )"
   ]
  },
  {
   "cell_type": "markdown",
   "metadata": {},
   "source": [
    "From the results we conclude that Corolla (smaller car) will experience more decelaration than Kuga (larger car). This is very reasonable, given that the biggest threat of car collisions is the sudden deceleration, causing the driver to suddenly accelerate forward, possibly colliding with car's steering wheel. Also other objects in the backseat will also fly to the frontpart of the car. "
   ]
  },
  {
   "cell_type": "markdown",
   "metadata": {},
   "source": [
    "## Acceleration converted to g-force "
   ]
  },
  {
   "cell_type": "code",
   "execution_count": 8,
   "metadata": {},
   "outputs": [
    {
     "name": "stdout",
     "output_type": "stream",
     "text": [
      "compared to g acceleration: \n",
      "a_m :=  15.64947982107167  g\n",
      "a_M :=  12.666297730179885  g\n"
     ]
    }
   ],
   "source": [
    "g=9.81 \n",
    "print('compared to g acceleration: ')\n",
    "print('a_m := ', abs(a_m)/g, ' g')\n",
    "print('a_M := ', abs(a_M)/g, ' g')"
   ]
  },
  {
   "cell_type": "markdown",
   "metadata": {},
   "source": [
    "As a mention, the acceleration of typical rollercoaster is 3 g. "
   ]
  },
  {
   "cell_type": "markdown",
   "metadata": {},
   "source": [
    "## Relative to a boxer's punch in car's mass and human mass"
   ]
  },
  {
   "cell_type": "markdown",
   "metadata": {},
   "source": [
    "A professional boxer's punch is about 2500 N. "
   ]
  },
  {
   "cell_type": "markdown",
   "metadata": {},
   "source": [
    "Corolla will experience force:"
   ]
  },
  {
   "cell_type": "code",
   "execution_count": 13,
   "metadata": {},
   "outputs": [
    {
     "name": "stdout",
     "output_type": "stream",
     "text": [
      "79.52408366916139 punch equivalent\n"
     ]
    }
   ],
   "source": [
    "F_m=a_m*m \n",
    "print(abs(F_m)/2500, 'punch equivalent')  "
   ]
  },
  {
   "cell_type": "markdown",
   "metadata": {},
   "source": [
    "Assuming drivers in both cars have same mass, 80 kg, then they will experience force:  "
   ]
  },
  {
   "cell_type": "code",
   "execution_count": 16,
   "metadata": {},
   "outputs": [
    {
     "name": "stdout",
     "output_type": "stream",
     "text": [
      "Kuga driver: 3.9762041834580697 punch equivalent\n",
      "Corolla driver: 4.912684705430819 punch equivalent\n"
     ]
    }
   ],
   "source": [
    "# human mass\n",
    "m_h= 80 #kg \n",
    "\n",
    "F_h= a_m*m_h #N #Corolla driver\n",
    "F_h2= a_M*m_h #N  #Kuga driver \n",
    "\n",
    "print('Kuga driver:', abs(F_h2)/2500 , 'punch equivalent' )\n",
    "print(\"Corolla driver:\", abs(F_h)/2500, 'punch equivalent'   )"
   ]
  },
  {
   "cell_type": "markdown",
   "metadata": {},
   "source": [
    "Thus corolla driver will experience nearly 5 times the boxer's punch force, and Kuga driver will experience 4 times. "
   ]
  },
  {
   "cell_type": "markdown",
   "metadata": {},
   "source": [
    "## How much energy is lost during the collision "
   ]
  },
  {
   "cell_type": "code",
   "execution_count": 17,
   "metadata": {},
   "outputs": [
    {
     "name": "stdout",
     "output_type": "stream",
     "text": [
      "Energy lost = 1104501.162071686 J\n"
     ]
    }
   ],
   "source": [
    "#Energy lost \n",
    "E_l=1/2*m*vx**2+ 1/2*M*vx**2-1/2*(m+M)*u**2  \n",
    "print('Energy lost =', E_l, 'J')"
   ]
  },
  {
   "cell_type": "code",
   "execution_count": null,
   "metadata": {},
   "outputs": [],
   "source": []
  }
 ],
 "metadata": {
  "kernelspec": {
   "display_name": "Python 3",
   "language": "python",
   "name": "python3"
  },
  "language_info": {
   "codemirror_mode": {
    "name": "ipython",
    "version": 3
   },
   "file_extension": ".py",
   "mimetype": "text/x-python",
   "name": "python",
   "nbconvert_exporter": "python",
   "pygments_lexer": "ipython3",
   "version": "3.8.10"
  }
 },
 "nbformat": 4,
 "nbformat_minor": 4
}
