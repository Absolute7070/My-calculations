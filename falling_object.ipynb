{
 "cells": [
  {
   "cell_type": "markdown",
   "metadata": {},
   "source": [
    "# Falling object under the influence of gravity and air resistance"
   ]
  },
  {
   "cell_type": "markdown",
   "metadata": {},
   "source": [
    "## Introduction\n"
   ]
  },
  {
   "cell_type": "markdown",
   "metadata": {},
   "source": [
    "We here try to answer a question: if an object was dropped from a high place, when would it hit the ground. \n",
    "At the same time, we would add some other information during the process of the falling.  \n",
    "\n",
    "A falling object is subjected to the gravity of the planet pointing downward and drag force pointing upward: "
   ]
  },
  {
   "cell_type": "markdown",
   "metadata": {},
   "source": [
    "$$\n",
    "F_g= G\\frac{mM}{r^2}\n",
    "$$\n",
    "\n",
    "$$\n",
    "F_d=\\frac{1}{2}\\rho v^2 C_D A \n",
    "$$"
   ]
  },
  {
   "cell_type": "markdown",
   "metadata": {},
   "source": [
    ", where $F_g$ is gravitational force and $F_d$ is drag force. "
   ]
  },
  {
   "cell_type": "code",
   "execution_count": 43,
   "metadata": {},
   "outputs": [
    {
     "name": "stdout",
     "output_type": "stream",
     "text": [
      "                                  ***Welcome to the simulation***                                   \n",
      "                       First, I want to know about the object to be simulated                       \n",
      "                        The following values should be given as instructed.                         \n",
      "                                 All numbers should be in SI units                                  \n"
     ]
    }
   ],
   "source": [
    "print('{:^100}'.format('***Welcome to the simulation***'))\n",
    "print('{:^100}'.format(\"First, I want to know about the object to be simulated\"))\n",
    "print('{:^100}'.format('The following values should be given as instructed.') )\n",
    "print('{:^100}'.format('All numbers should be in SI units'))\n"
   ]
  },
  {
   "cell_type": "markdown",
   "metadata": {},
   "source": [
    "## Imports "
   ]
  },
  {
   "cell_type": "code",
   "execution_count": 44,
   "metadata": {},
   "outputs": [],
   "source": [
    "from frozendict import frozendict"
   ]
  },
  {
   "cell_type": "markdown",
   "metadata": {},
   "source": [
    "## Asking for input values"
   ]
  },
  {
   "cell_type": "code",
   "execution_count": 45,
   "metadata": {},
   "outputs": [
    {
     "name": "stdin",
     "output_type": "stream",
     "text": [
      "initial height, mass (m), cross-sectional area, name of object, fluid density, mass of planet (M), radius of planet (R) 828,80,4,human,1.225,5.972e24,6371e3\n"
     ]
    }
   ],
   "source": [
    "jono='The following values should be given as instructed, and in SI units without prefixes'\n",
    "\n",
    "#reading input data the user \n",
    "while True:\n",
    "    inputvalues=input('initial height, mass (m), cross-sectional area, name of object, fluid density, mass of planet (M), radius of planet (R)') \n",
    "    #this can be input value: '300,80,4,human,1.225,5.972e24,6371e3'\n",
    "    inputvalues=inputvalues.split(',')\n",
    "    if len(inputvalues)<7:\n",
    "        print('Please check the missing information!')\n",
    "    elif len(inputvalues)>7:\n",
    "        print('There is something some needless numbers, please check!')\n",
    "    else:\n",
    "        break "
   ]
  },
  {
   "cell_type": "code",
   "execution_count": 46,
   "metadata": {},
   "outputs": [],
   "source": [
    "#saving data into dictionary \n",
    "inputdict={}\n",
    "\n",
    "#physics symbols \n",
    "symbolnamelist='h,m,A,name,rho,M,R'.split(',')\n",
    "\n",
    "for symbol, values in zip(symbolnamelist, inputvalues):\n",
    "    try:\n",
    "        inputdict[symbol] = float(values) \n",
    "    except:\n",
    "        inputdict[symbol]=values \n",
    "\n",
    "#gravitational constant\n",
    "inputdict['G']=  6.67408e-11\n",
    "#frozing the dictionary\n",
    "inputdict=frozendict(inputdict)"
   ]
  },
  {
   "cell_type": "markdown",
   "metadata": {},
   "source": [
    "## Initial values"
   ]
  },
  {
   "cell_type": "code",
   "execution_count": 47,
   "metadata": {},
   "outputs": [],
   "source": [
    "h=inputdict['h']  #initial height from the ground \n",
    "m=inputdict['m'] #object's mass\n",
    "A=inputdict['A'] #object's cross-sectional area \n",
    "name = inputdict['name'] # what object is it\n",
    "rho=inputdict['rho'] #fluid density \n",
    "M=inputdict['M'] #in which planet\n",
    "R=inputdict['R']   # planet's radius \n",
    "G=inputdict['G']  #gravitational constant "
   ]
  },
  {
   "cell_type": "markdown",
   "metadata": {},
   "source": [
    "### Dictionary for drag coefficients for different objects"
   ]
  },
  {
   "cell_type": "code",
   "execution_count": 48,
   "metadata": {},
   "outputs": [],
   "source": [
    "C_dict={'human': 1.15, 'smooth sphere': 0.1}"
   ]
  },
  {
   "cell_type": "markdown",
   "metadata": {},
   "source": [
    "Determining the drag coefficient: "
   ]
  },
  {
   "cell_type": "code",
   "execution_count": 49,
   "metadata": {},
   "outputs": [],
   "source": [
    "if name in C_dict:\n",
    "    Cd=C_dict[name]\n",
    "else:\n",
    "    Cd=input('Give the drag coefficient of the object: ')"
   ]
  },
  {
   "cell_type": "markdown",
   "metadata": {},
   "source": [
    "## Functions"
   ]
  },
  {
   "cell_type": "code",
   "execution_count": 50,
   "metadata": {},
   "outputs": [],
   "source": [
    "#Gravitation\n",
    "def Fg(r):\n",
    "    return G*m*M/r**2\n",
    "\n",
    "#drag \n",
    "def Fd(v):\n",
    "    return 1/2*rho*v**2*Cd*A"
   ]
  },
  {
   "cell_type": "markdown",
   "metadata": {},
   "source": [
    "## Data structure"
   ]
  },
  {
   "cell_type": "markdown",
   "metadata": {},
   "source": [
    "We store data of the object into this dictionary: (time, position, velocity, acceleration, total force):"
   ]
  },
  {
   "cell_type": "code",
   "execution_count": 51,
   "metadata": {},
   "outputs": [],
   "source": [
    "data={'t': [], 'y': [], 'v': [], 'a': [] , 'F':[], 'Fd':[], 'Fg': []}"
   ]
  },
  {
   "cell_type": "markdown",
   "metadata": {},
   "source": [
    "## Running the simulation"
   ]
  },
  {
   "cell_type": "markdown",
   "metadata": {},
   "source": [
    "Here we determine the length of a time step: "
   ]
  },
  {
   "cell_type": "code",
   "execution_count": 52,
   "metadata": {},
   "outputs": [],
   "source": [
    "deltat=0.001"
   ]
  },
  {
   "cell_type": "markdown",
   "metadata": {},
   "source": [
    "Running the simulation:"
   ]
  },
  {
   "cell_type": "code",
   "execution_count": 53,
   "metadata": {},
   "outputs": [],
   "source": [
    "#the values in the first step     \n",
    "y=h \n",
    "v=0\n",
    "F= -Fg(R+h)\n",
    "a= F/m \n",
    "t=0 \n",
    "\n",
    "\n",
    "while True: \n",
    "    #saving data to the dictionary \n",
    "    data['t'].append(t)\n",
    "    data['y'].append(y)\n",
    "    data['v'].append(v)\n",
    "    data['a'].append(a)   \n",
    "    data['F'].append(F)\n",
    "    data['Fg'].append(Fg(R+y))\n",
    "    data['Fd'].append(Fd(v))\n",
    "    \n",
    "    #stopping simulation when the object hit the ground \n",
    "    if y<=0:\n",
    "        break     \n",
    "    \n",
    "    \n",
    "    #verlet algorithm \n",
    "    y=y+v*deltat+ 1/2*a*deltat**2*deltat\n",
    "    t+=deltat\n",
    "    F= Fd(v)-Fg(y+R)\n",
    "    v=v+1/2*(a+F/m)*deltat \n",
    "    a=F/m \n",
    "\n",
    "\n"
   ]
  },
  {
   "cell_type": "markdown",
   "metadata": {},
   "source": [
    "## Plotting \n"
   ]
  },
  {
   "cell_type": "code",
   "execution_count": 54,
   "metadata": {},
   "outputs": [],
   "source": [
    "%matplotlib inline\n",
    "import matplotlib.pyplot as plt "
   ]
  },
  {
   "cell_type": "markdown",
   "metadata": {},
   "source": [
    "### Plots"
   ]
  },
  {
   "cell_type": "markdown",
   "metadata": {},
   "source": [
    "Here we produce the plots of position, velocity, acceleration and total force vs time. "
   ]
  },
  {
   "cell_type": "code",
   "execution_count": 55,
   "metadata": {},
   "outputs": [
    {
     "data": {
      "image/png": "[encoded data removed]",
      "text/plain": [
       "<Figure size 1440x720 with 4 Axes>"
      ]
     },
     "metadata": {
      "needs_background": "light"
     },
     "output_type": "display_data"
    }
   ],
   "source": [
    "fig, ((ax1, ax2),(ax3, ax4)) = plt.subplots(2,2, figsize=(20,10))\n",
    "\n",
    "#t vs y \n",
    "ax1.plot(data['t'], data['y'], '.')\n",
    "ax1.set_xlabel('t (s)')\n",
    "ax1.set_ylabel('y (m)')\n",
    "ax1.set_title('Height vs time figure')\n",
    "\n",
    "#t vs v \n",
    "ax2.plot(data['t'], data['v'], '.')\n",
    "ax2.set_xlabel('t (s)')\n",
    "ax2.set_ylabel('v (m/s)')\n",
    "ax2.set_title('Speed vs time figure')\n",
    "\n",
    "#t vs a\n",
    "ax3.plot(data['t'], data['a'], '.')\n",
    "ax3.set_xlabel('t (s)')\n",
    "ax3.set_ylabel('a $(m/s^2)$')\n",
    "ax3.set_title('Acceleration vs time figure')\n",
    "\n",
    "#t vs F\n",
    "ax4.plot(data['t'], data['F'], '.')\n",
    "ax4.set_xlabel('t (s)')\n",
    "ax4.set_ylabel('F $(N)$')\n",
    "ax4.set_title('Total force vs time figure')\n",
    "\n",
    "\n",
    "\n",
    "\n",
    "\n",
    "#adjusting plots \n",
    "plt.subplots_adjust(hspace=0.5, wspace=0.5)\n",
    "ax1.grid()\n",
    "ax2.grid()\n",
    "ax3.grid()\n",
    "ax4.grid()\n",
    "\n",
    "plt.show()\n",
    "\n"
   ]
  },
  {
   "cell_type": "markdown",
   "metadata": {},
   "source": [
    "### Force plots "
   ]
  },
  {
   "cell_type": "markdown",
   "metadata": {},
   "source": [
    "Here we produce the plots of absolute value of gravitational force and drag force. "
   ]
  },
  {
   "cell_type": "code",
   "execution_count": 56,
   "metadata": {},
   "outputs": [
    {
     "data": {
      "image/png": "[encoded data removed]",
      "text/plain": [
       "<Figure size 1440x720 with 2 Axes>"
      ]
     },
     "metadata": {
      "needs_background": "light"
     },
     "output_type": "display_data"
    }
   ],
   "source": [
    "fig2, axs= plt.subplots(1, 2, figsize=(20,10))\n",
    "\n",
    "axs[0].plot(data['t'], data['Fg'], '.') \n",
    "axs[1].plot(data['t'], data['Fd'], '.') \n",
    "axs[0].set_xlabel('t (s)', fontsize=15)\n",
    "axs[1].set_xlabel('t (s)', fontsize=15) \n",
    "axs[0].set_ylabel('$F_g (N)$', fontsize=15)\n",
    "axs[1].set_ylabel('$F_d (N)$', fontsize=15) \n",
    "axs[0].grid()\n",
    "axs[1].grid()\n",
    "axs[0].set_title('Gravity vs time', fontsize=15)\n",
    "axs[1].set_title('Drag vs time', fontsize=15)\n",
    "\n",
    "\n",
    "plt.show()\n"
   ]
  },
  {
   "cell_type": "code",
   "execution_count": null,
   "metadata": {},
   "outputs": [],
   "source": []
  }
 ],
 "metadata": {
  "kernelspec": {
   "display_name": "Python 3",
   "language": "python",
   "name": "python3"
  },
  "language_info": {
   "codemirror_mode": {
    "name": "ipython",
    "version": 3
   },
   "file_extension": ".py",
   "mimetype": "text/x-python",
   "name": "python",
   "nbconvert_exporter": "python",
   "pygments_lexer": "ipython3",
   "version": "3.8.10"
  }
 },
 "nbformat": 4,
 "nbformat_minor": 4
}
